{
  "nbformat": 4,
  "nbformat_minor": 0,
  "metadata": {
    "colab": {
      "provenance": [],
      "include_colab_link": true
    },
    "kernelspec": {
      "name": "python3",
      "display_name": "Python 3"
    },
    "language_info": {
      "name": "python"
    }
  },
  "cells": [
    {
      "cell_type": "markdown",
      "metadata": {
        "id": "view-in-github",
        "colab_type": "text"
      },
      "source": [
        "<a href=\"https://colab.research.google.com/github/Umaparvathi1/Fmml-lab/blob/main/FMML_Module4_Lab3_June2024.ipynb\" target=\"_parent\"><img src=\"https://colab.research.google.com/assets/colab-badge.svg\" alt=\"Open In Colab\"/></a>"
      ]
    },
    {
      "cell_type": "markdown",
      "source": [
        "# FOUNDATIONS OF MODERN MACHINE LEARNING, IIIT Hyderabad\n",
        "# Module 4: Perceptron and Gradient Descent\n",
        "## Lab 3: Gradient Descent\n",
        "\n",
        "Gradient descent is a very important algorithm to understand, as it underpins many of the more advanced algorithms used in Machine Learning and Deep Learning.\n",
        "\n",
        "A brief overview of the algorithm is\n",
        "\n",
        "\n",
        "*   start with a random initialization of the solution.\n",
        "*   incrementally change the solution by moving in the direction of negative gradient of the objective function.\n",
        "*   repeat the previous step until some convergence criteria is met.\n",
        "\n",
        "The key equation for change in weight is:\n",
        "$$w^{k+1} \\leftarrow w^k - \\eta \\Delta J$$\n",
        "\n",
        "In this lab, we will discuss stochastic gradient descent, mini-batch gradient descent and batch gradient descent.\n"
      ],
      "metadata": {
        "id": "XYxxkQg6xCjD"
      }
    },
    {
      "cell_type": "code",
      "metadata": {
        "id": "Fr-MnaGs7JmZ"
      },
      "source": [
        "import numpy as np\n",
        "import matplotlib.pyplot as plt"
      ],
      "execution_count": 6,
      "outputs": []
    },
    {
      "cell_type": "code",
      "metadata": {
        "id": "7ob_zZms7VOu"
      },
      "source": [
        "np.random.seed(42)"
      ],
      "execution_count": 3,
      "outputs": []
    },
    {
      "cell_type": "markdown",
      "metadata": {
        "id": "v4Kix4bcChiy"
      },
      "source": [
        "# Creating the Data\n",
        "\n",
        "Let's generate some data with:\n",
        "\\begin{equation} y_0= 4 \\end{equation}\n",
        "\\begin{equation} y_1= 3 \\end{equation}\n",
        "\n",
        "and also add some noise to the data."
      ]
    },
    {
      "cell_type": "code",
      "metadata": {
        "id": "MtAS7eFZ9hX6"
      },
      "source": [
        "X = 2 * np.random.rand(100, 1)\n",
        "y = 4 + 3 * X + np.random.randn(100, 1)"
      ],
      "execution_count": 2,
      "outputs": []
    },
    {
      "cell_type": "markdown",
      "metadata": {
        "id": "zD95NaF-CxM-"
      },
      "source": [
        "Let's also plot the data we just created"
      ]
    },
    {
      "cell_type": "code",
      "metadata": {
        "colab": {
          "base_uri": "https://localhost:8080/",
          "height": 247
        },
        "id": "3IiEP4BQ7Wja",
        "outputId": "24fc2aaf-219b-4293-e7ac-7212c6d873f1"
      },
      "source": [
        "plt.plot(X, y, 'b.')\n",
        "plt.xlabel('x')\n",
        "plt.ylabel('y', rotation=0)"
      ],
      "execution_count": 4,
      "outputs": [
        {
          "output_type": "execute_result",
          "data": {
            "text/plain": [
              "Text(0, 0.5, 'y')"
            ]
          },
          "metadata": {},
          "execution_count": 4
        },
        {
          "output_type": "display_data",
          "data": {
            "text/plain": [
              "<Figure size 640x480 with 1 Axes>"
            ],
            "image/png": "[encoded data removed]"
          },
          "metadata": {}
        }
      ]
    },
    {
      "cell_type": "markdown",
      "metadata": {
        "id": "ScwxpouoDDyZ"
      },
      "source": [
        "## Cost Function\n",
        "\n",
        "The equation for calculating cost function is as shown below. The cost function is only for linear regression. For other algorithms, the cost function will be different and the gradients would have to be derived from the cost functions\n",
        "\n",
        "\\begin{equation}\n",
        "J(y_{pred}) = \\frac{1}{2} m \\sum_{i=1}^{m} (h(y_{pred})^{(i)} - y^{(i)})^2\n",
        "\\end{equation}"
      ]
    },
    {
      "cell_type": "code",
      "metadata": {
        "id": "PUeTUAXH7ZaV"
      },
      "source": [
        "def cal_cost(y_pred, X, y):\n",
        "    '''\n",
        "    Calculates the cost for given X and Y.\n",
        "    y_pred = Vector of y_preds\n",
        "    X = Row of X's np.zeros((2, j))\n",
        "    y = Actual y's np.zeros((2, 1))\n",
        "\n",
        "    where:\n",
        "        j is the no of features\n",
        "    '''\n",
        "\n",
        "    m = len(y)\n",
        "\n",
        "    predictions = X.dot(y_pred)\n",
        "    cost = (1 / 2 * m) * np.sum(np.square(predictions - y))\n",
        "\n",
        "    return cost"
      ],
      "execution_count": 5,
      "outputs": []
    },
    {
      "cell_type": "markdown",
      "metadata": {
        "id": "FcXqsVNpDbKC"
      },
      "source": [
        "## Gradients\n",
        "\n",
        "\\begin{equation}\n",
        "y_{pred_0}: = y_{pred_0} -\\alpha . (1/m .\\sum_{i=1}^{m}(h(y_{pred}^{(i)} - y^{(i)}).X_0^{(i)})\n",
        "\\end{equation}\n",
        "\\begin{equation}\n",
        "y_{pred_1}: = y_{pred_1} -\\alpha . (1/m .\\sum_{i=1}^{m}(h(y_{pred}^{(i)} - y^{(i)}).X_0^{(i)})\n",
        "\\end{equation}\n",
        ".\n",
        "\n",
        ".\n",
        "\n",
        ".\n",
        "\n",
        ".\n",
        "\n",
        "\\begin{equation}\n",
        "y_{pred_j}: = y_{pred_j} -\\alpha . (1/m .\\sum_{i=1}^{m}(h(y_{pred}^{(i)} - y^{(i)}).X_0^{(i)})\n",
        "\\end{equation}"
      ]
    },
    {
      "cell_type": "code",
      "metadata": {
        "id": "fwxBFXP88NBW"
      },
      "source": [
        "def gradient_descent(X, y, y_pred, learning_rate=0.01, iterations=100):\n",
        "    '''\n",
        "    X = Matrix of X with added bias units\n",
        "    y = Vector of Y\n",
        "    y_pred = Vector of y_preds np.random.randn(j, 1)\n",
        "    learning_rate\n",
        "    iterations = no of iterations\n",
        "\n",
        "    Returns the final y_pred vector and array of cost history over no of iterations\n",
        "    '''\n",
        "\n",
        "    m = len(y)\n",
        "    cost_history = np.zeros(iterations)\n",
        "    y_pred_history = np.zeros((iterations, 2))\n",
        "\n",
        "    for it in range(iterations):\n",
        "        prediction = np.dot(X, y_pred)\n",
        "        y_pred = y_pred - (1 / m) * learning_rate * (X.T.dot((prediction - y)))\n",
        "        y_pred_history[it,:] = y_pred.T\n",
        "        cost_history[it]  = cal_cost(y_pred, X, y)\n",
        "\n",
        "    return y_pred, cost_history, y_pred_history"
      ],
      "execution_count": 7,
      "outputs": []
    },
    {
      "cell_type": "markdown",
      "metadata": {
        "id": "1iSohSB2EtK1"
      },
      "source": [
        "Let's do 1000 iterations with a learning rate of 0.01.\n",
        "We will start with a random prediction."
      ]
    },
    {
      "cell_type": "code",
      "metadata": {
        "colab": {
          "base_uri": "https://localhost:8080/"
        },
        "id": "18AX7hrU8bv5",
        "outputId": "afc7b6a1-7602-4684-e271-1d2d8cd49e55"
      },
      "source": [
        "lr = 0.01\n",
        "n_iter = 1000\n",
        "\n",
        "y_pred = np.random.randn(2,1)\n",
        "X_b = np.c_[np.ones((len(X), 1)), X]\n",
        "y_pred, cost_history, y_pred_history = gradient_descent(X_b, y, y_pred, lr, n_iter)\n",
        "\n",
        "print('y_pred[0]: {:0.3f}\\ny_pred[1]: {:0.3f}'.format(y_pred[0][0], y_pred[1][0]))\n",
        "print('Final error: {:0.3f}'.format(cost_history[-1]))"
      ],
      "execution_count": 8,
      "outputs": [
        {
          "output_type": "stream",
          "name": "stdout",
          "text": [
            "y_pred[0]: 3.732\n",
            "y_pred[1]: 3.289\n",
            "Final error: 4737.085\n"
          ]
        }
      ]
    },
    {
      "cell_type": "markdown",
      "metadata": {
        "id": "m7fao2MaE216"
      },
      "source": [
        "Plotting the error vs Number of iterations"
      ]
    },
    {
      "cell_type": "code",
      "metadata": {
        "colab": {
          "base_uri": "https://localhost:8080/",
          "height": 232
        },
        "id": "DrkrAAbk8hIs",
        "outputId": "2215fdfc-005e-4023-f35c-98d4925fe5e3"
      },
      "source": [
        "fig, ax = plt.subplots(figsize=(12,8))\n",
        "\n",
        "ax.set_ylabel('Error')\n",
        "ax.set_xlabel('Number of iterations')\n",
        "\n",
        "ax.plot(range(n_iter), cost_history, 'b.')"
      ],
      "execution_count": 9,
      "outputs": [
        {
          "output_type": "execute_result",
          "data": {
            "text/plain": [
              "[<matplotlib.lines.Line2D at 0x7b61ed69a320>]"
            ]
          },
          "metadata": {},
          "execution_count": 9
        },
        {
          "output_type": "display_data",
          "data": {
            "text/plain": [
              "<Figure size 1200x800 with 1 Axes>"
            ],
            "image/png": "[encoded data removed]"
          },
          "metadata": {}
        }
      ]
    },
    {
      "cell_type": "markdown",
      "metadata": {
        "id": "IG5tWAy-FCaW"
      },
      "source": [
        "Zooming in..."
      ]
    },
    {
      "cell_type": "code",
      "metadata": {
        "colab": {
          "base_uri": "https://localhost:8080/",
          "height": 261
        },
        "id": "WZ7BoFHy8kTk",
        "outputId": "6c3fd3dc-c714-4a61-b1b9-4fed90cf689e"
      },
      "source": [
        "fig,ax = plt.subplots(figsize=(10,8))\n",
        "ax.plot(range(200), cost_history[:200], 'b.')"
      ],
      "execution_count": 10,
      "outputs": [
        {
          "output_type": "execute_result",
          "data": {
            "text/plain": [
              "[<matplotlib.lines.Line2D at 0x7b61ed323e50>]"
            ]
          },
          "metadata": {},
          "execution_count": 10
        },
        {
          "output_type": "display_data",
          "data": {
            "text/plain": [
              "<Figure size 1000x800 with 1 Axes>"
            ],
            "image/png": "[encoded data removed]"
          },
          "metadata": {}
        }
      ]
    },
    {
      "cell_type": "markdown",
      "metadata": {
        "id": "JYhOp3fjnh2G"
      },
      "source": [
        "# Stochastic Gradient Descent"
      ]
    },
    {
      "cell_type": "markdown",
      "source": [
        "In Batch Gradient Descent we were considering all the examples for every step of Gradient Descent. But what if our dataset is very huge. Deep learning models crave for data. The more the data the more chances of a model to be good. Suppose our dataset has 5 million examples, then just to take one step the model will have to calculate the gradients of all the 5 million examples. This does not seem an efficient way. To tackle this problem we have Stochastic Gradient Descent. In Stochastic Gradient Descent (SGD), we consider just one example at a time to take a single step."
      ],
      "metadata": {
        "id": "10N2dcwWUctJ"
      }
    },
    {
      "cell_type": "code",
      "metadata": {
        "id": "aVwD7Cqw8m1d"
      },
      "source": [
        "def stocashtic_gradient_descent(X, y, y_pred, learning_rate=0.01, iterations=10):\n",
        "    '''\n",
        "    X = Matrix of X with added bias units\n",
        "    y = Vector of Y\n",
        "    y_pred = Vector of y_pred np.random.randn(j,1)\n",
        "    learning_rate\n",
        "    iterations = no of iterations\n",
        "\n",
        "    Returns the final y_pred vector and array of cost history over no of iterations\n",
        "    '''\n",
        "\n",
        "    m = len(y)\n",
        "    cost_history = np.zeros(iterations)\n",
        "\n",
        "    for it in range(iterations):\n",
        "        cost = 0.0\n",
        "\n",
        "        for i in range(m):\n",
        "            rand_ind = np.random.randint(0,m)\n",
        "            X_i = X[rand_ind, :].reshape(1, X.shape[1])\n",
        "            y_i = y[rand_ind].reshape(1,1)\n",
        "            prediction = np.dot(X_i, y_pred)\n",
        "\n",
        "            y_pred = y_pred - (1 / m) * learning_rate *(X_i.T.dot((prediction - y_i)))\n",
        "            cost += cal_cost(y_pred, X_i, y_i)\n",
        "\n",
        "        cost_history[it]  = cost\n",
        "\n",
        "    return y_pred, cost_history"
      ],
      "execution_count": 11,
      "outputs": []
    },
    {
      "cell_type": "code",
      "metadata": {
        "colab": {
          "base_uri": "https://localhost:8080/"
        },
        "id": "Yk6pfB5c8tPz",
        "outputId": "9df761e4-253f-4fbd-ef40-20bbf5c66cbe"
      },
      "source": [
        "lr = 0.5\n",
        "n_iter = 50\n",
        "y_pred = np.random.randn(2, 1)\n",
        "X_b = np.c_[np.ones((len(X), 1)), X]\n",
        "y_pred, cost_history = stocashtic_gradient_descent(X_b, y, y_pred, lr, n_iter)\n",
        "\n",
        "print('y_pred[0]: {:0.3f}\\ny_pred[1]: {:0.3f}'.format(y_pred[0][0], y_pred[1][0]))\n",
        "print('Final error: {:0.3f}'.format(cost_history[-1]))"
      ],
      "execution_count": 12,
      "outputs": [
        {
          "output_type": "stream",
          "name": "stdout",
          "text": [
            "y_pred[0]: 3.785\n",
            "y_pred[1]: 3.202\n",
            "Final error: 42.381\n"
          ]
        }
      ]
    },
    {
      "cell_type": "code",
      "metadata": {
        "colab": {
          "base_uri": "https://localhost:8080/",
          "height": 270
        },
        "id": "YiJUgS7o8u2e",
        "outputId": "852cdbd3-a67c-4c35-a920-47629b300065"
      },
      "source": [
        "fig, ax = plt.subplots(figsize=(10,8))\n",
        "\n",
        "ax.set_ylabel('Error')\n",
        "ax.set_xlabel('Number of iterations')\n",
        "y_pred = np.random.randn(2,1)\n",
        "\n",
        "ax.plot(range(n_iter), cost_history, 'b.')"
      ],
      "execution_count": 13,
      "outputs": [
        {
          "output_type": "execute_result",
          "data": {
            "text/plain": [
              "[<matplotlib.lines.Line2D at 0x7b61ed5bf550>]"
            ]
          },
          "metadata": {},
          "execution_count": 13
        },
        {
          "output_type": "display_data",
          "data": {
            "text/plain": [
              "<Figure size 1000x800 with 1 Axes>"
            ],
            "image/png": "[encoded data removed]"
          },
          "metadata": {}
        }
      ]
    },
    {
      "cell_type": "markdown",
      "metadata": {
        "id": "ScckWktynk1o"
      },
      "source": [
        "# Mini Batch Gradient Descent"
      ]
    },
    {
      "cell_type": "markdown",
      "source": [
        "We have seen the Batch Gradient Descent. We have also seen the Stochastic Gradient Descent. Batch Gradient Descent can be used for smoother curves. SGD can be used when the dataset is large. Batch Gradient Descent converges directly to minima. SGD converges faster for larger datasets. But, since in SGD we use only one example at a time, we cannot implement the vectorized implementation on it. This can slow down the computations. To tackle this problem, a mixture of Batch Gradient Descent and SGD is used.\n",
        "Neither we use all the dataset all at once nor we use the single example at a time. We use a batch of a fixed number of training examples which is less than the actual dataset and call it a mini-batch. Doing this helps us achieve the advantages of both the former variants we saw."
      ],
      "metadata": {
        "id": "ZTVz-QssUkuE"
      }
    },
    {
      "cell_type": "code",
      "metadata": {
        "id": "4JtxFVL78wEm"
      },
      "source": [
        "def minibatch_gradient_descent(X, y, y_pred, learning_rate=0.01, iterations=10, batch_size=20):\n",
        "    '''\n",
        "    X = Matrix of X without added bias units\n",
        "    y = Vector of Y\n",
        "    y_pred = Vector of y_preds np.random.randn(j, 1)\n",
        "    learning_rate\n",
        "    iterations = no of iterations\n",
        "\n",
        "    Returns the final theta vector and array of cost history over no of iterations\n",
        "    '''\n",
        "\n",
        "    m = len(y)\n",
        "    cost_history = np.zeros(iterations)\n",
        "    n_batches = int(m / batch_size)\n",
        "\n",
        "    for it in range(iterations):\n",
        "        cost = 0.0\n",
        "        indices = np.random.permutation(m)\n",
        "        X = X[indices]\n",
        "        y = y[indices]\n",
        "\n",
        "        for i in range(0, m, batch_size):\n",
        "            X_i = X[i: i + batch_size]\n",
        "            y_i = y[i: i + batch_size]\n",
        "\n",
        "            X_i = np.c_[np.ones(len(X_i)), X_i]\n",
        "            prediction = np.dot(X_i, y_pred)\n",
        "\n",
        "            y_pred = y_pred - (1 / m) * learning_rate * (X_i.T.dot((prediction - y_i)))\n",
        "            cost += cal_cost(y_pred, X_i, y_i)\n",
        "\n",
        "        cost_history[it]  = cost\n",
        "\n",
        "    return y_pred, cost_history"
      ],
      "execution_count": 14,
      "outputs": []
    },
    {
      "cell_type": "code",
      "metadata": {
        "colab": {
          "base_uri": "https://localhost:8080/"
        },
        "id": "SpbsVwA28znL",
        "outputId": "c8bb071e-bb14-48d6-a04c-6d1bb5e8d389"
      },
      "source": [
        "lr = 0.1\n",
        "n_iter = 200\n",
        "y_pred = np.random.randn(2,1)\n",
        "y_pred, cost_history = minibatch_gradient_descent(X, y, y_pred, lr, n_iter)\n",
        "\n",
        "print('y_pred[0]: {:0.3f}\\ny_pred[1]: {:0.3f}'.format(y_pred[0][0], y_pred[1][0]))\n",
        "print('Final error: {:0.3f}'.format(cost_history[-1]))"
      ],
      "execution_count": 15,
      "outputs": [
        {
          "output_type": "stream",
          "name": "stdout",
          "text": [
            "y_pred[0]: 3.798\n",
            "y_pred[1]: 3.238\n",
            "Final error: 944.628\n"
          ]
        }
      ]
    },
    {
      "cell_type": "code",
      "metadata": {
        "colab": {
          "base_uri": "https://localhost:8080/",
          "height": 265
        },
        "id": "Q_ivOYHT817C",
        "outputId": "eb918e1d-5cb9-44ef-d9ec-8582e4e38c7b"
      },
      "source": [
        "fig, ax = plt.subplots(figsize=(10,8))\n",
        "\n",
        "ax.set_ylabel('Error')\n",
        "ax.set_xlabel('Number of iterations')\n",
        "y_pred = np.random.randn(2,1)\n",
        "\n",
        "ax.plot(range(n_iter), cost_history, 'b.')"
      ],
      "execution_count": 16,
      "outputs": [
        {
          "output_type": "execute_result",
          "data": {
            "text/plain": [
              "[<matplotlib.lines.Line2D at 0x7b61ed7a1ea0>]"
            ]
          },
          "metadata": {},
          "execution_count": 16
        },
        {
          "output_type": "display_data",
          "data": {
            "text/plain": [
              "<Figure size 1000x800 with 1 Axes>"
            ],
            "image/png": "[encoded data removed]"
          },
          "metadata": {}
        }
      ]
    },
    {
      "cell_type": "markdown",
      "source": [
        "Things to try out:\n",
        "\n",
        "1. Change batch size in mini-batch gradient descent.\n",
        "2. Test all the three out on real datasets.\n",
        "3. Compare the effects of changing learning rate by the same amount in Batch GD, SGD and Mini-batch GD.\n",
        "\n",
        "1.Let's change the batch size in mini-batch gradient descent to see how it affects the convergence of the algorithm.\n",
        "\n",
        "Here's the updated code:\n",
        "\n",
        "```\n",
        "import numpy as np\n",
        "import matplotlib.pyplot as plt\n",
        "\n",
        "Define the function to optimize\n",
        "def f(x):\n",
        "    return x**2 + 2*x + 1\n",
        "\n",
        "Define the derivative of the function\n",
        "def f_prime(x):\n",
        "    return 2*x + 2\n",
        "\n",
        "Initialize the starting point and learning rate\n",
        "x = 10.0\n",
        "alpha = 0.1\n",
        "\n",
        "Define the batch sizes to try\n",
        "batch_sizes = [1, 5, 10, 20]\n",
        "\n",
        "Perform mini-batch gradient descent with different batch sizes\n",
        "for batch_size in batch_sizes:\n",
        "    x_history = [x]\n",
        "    for i in range(100):\n",
        "        # Simulate mini-batch gradient descent by adding noise to the gradient\n",
        "        gradient_noise = np.random.normal(0, 1 / np.sqrt(batch_size))\n",
        "        x_new = x - alpha * (f_prime(x) + gradient_noise)\n",
        "        x_history.append(x_new)\n",
        "        x = x_new\n",
        "    plt.plot(x_history, label=f\"Batch size: {batch_size}\")\n",
        "\n",
        "plt.xlabel('Iteration')\n",
        "plt.ylabel('x')\n",
        "plt.title('Mini-Batch Gradient Descent Convergence')\n",
        "plt.legend()\n",
        "plt.show()\n",
        "```\n",
        "\n",
        "This code performs mini-batch gradient descent with different batch sizes and plots the convergence of the algorithm. You can see how the batch size affects the noise in the gradient and the convergence of the algorithm.\n",
        "\n",
        "In general, a larger batch size can provide a more accurate estimate of the gradient, but it can also increase the computational cost and memory requirements. A smaller batch size can provide a noisier estimate of the gradient, but it can also reduce the computational cost and memory requirements.\n",
        "\n",
        "The choice of batch size depends on the specific problem and the available computational resources. In practice, it's often necessary to experiment with different batch sizes to find the best trade-off between accuracy and computational efficiency.\n",
        "\n",
        "2.Let's test the three optimization algorithms (Gradient Descent, Mini-Batch Gradient Descent, and Stochastic Gradient Descent) on a real dataset.\n",
        "\n",
        "We'll use the Boston Housing dataset, which is a classic regression dataset that contains 506 samples and 13 features.\n",
        "\n",
        "Here's the code:\n",
        "\n",
        "```\n",
        "import numpy as np\n",
        "import matplotlib.pyplot as plt\n",
        "from sklearn.datasets import load_boston\n",
        "from sklearn.model_selection import train_test_split\n",
        "from sklearn.linear_model import LinearRegression\n",
        "\n",
        "Load the Boston Housing dataset\n",
        "boston = load_boston()\n",
        "X = boston.data\n",
        "y = boston.target\n",
        "\n",
        "Split the dataset into training and test sets\n",
        "X_train, X_test, y_train, y_test = train_test_split(X, y, test_size=0.2, random_state=42)\n",
        "\n",
        "Define the optimization algorithms\n",
        "def gradient_descent(X, y, alpha, num_iterations):\n",
        "    m, n = X.shape\n",
        "    theta = np.zeros(n)\n",
        "    cost_history = np.zeros(num_iterations)\n",
        "    for i in range(num_iterations):\n",
        "        predictions = np.dot(X, theta)\n",
        "        errors = predictions - y\n",
        "        gradient = np.dot(X.T, errors) / m\n",
        "        theta -= alpha * gradient\n",
        "        cost_history[i] = np.mean(errors ** 2)\n",
        "    return theta, cost_history\n",
        "\n",
        "def mini_batch_gradient_descent(X, y, alpha, num_iterations, batch_size):\n",
        "    m, n = X.shape\n",
        "    theta = np.zeros(n)\n",
        "    cost_history = np.zeros(num_iterations)\n",
        "    for i in range(num_iterations):\n",
        "        batch_indices = np.random.choice(m, batch_size, replace=False)\n",
        "        X_batch = X[batch_indices]\n",
        "        y_batch = y[batch_indices]\n",
        "        predictions = np.dot(X_batch, theta)\n",
        "        errors = predictions - y_batch\n",
        "        gradient = np.dot(X_batch.T, errors) / batch_size\n",
        "        theta -= alpha * gradient\n",
        "        cost_history[i] = np.mean(errors ** 2)\n",
        "    return theta, cost_history\n",
        "\n",
        "def stochastic_gradient_descent(X, y, alpha, num_iterations):\n",
        "    m, n = X.shape\n",
        "    theta = np.zeros(n)\n",
        "    cost_history = np.zeros(num_iterations)\n",
        "    for i in range(num_iterations):\n",
        "        index = np.random.choice(m)\n",
        "        x = X[index]\n",
        "        y_value = y[index]\n",
        "        prediction = np.dot(x, theta)\n",
        "        error = prediction - y_value\n",
        "        gradient = error * x\n",
        "        theta -= alpha * gradient\n",
        "        cost_history[i] = error ** 2\n",
        "    return theta, cost_history\n",
        "\n",
        "Define the hyperparameters\n",
        "alpha = 0.01\n",
        "num_iterations = 1000\n",
        "batch_size = 32\n",
        "\n",
        "Run the optimization algorithms\n",
        "theta_gd, cost_history_gd = gradient_descent(X_train, y_train, alpha, num_iterations)\n",
        "theta_mbgd, cost_history_mbgd = mini_batch_gradient_descent(X_train, y_train, alpha, num_iterations, batch_size)\n",
        "theta_sgd, cost_history_sgd = stochastic_gradient_descent(X_train, y_train, alpha, num_iterations)\n",
        "\n",
        "Plot the cost history\n",
        "plt.plot(cost_history_gd, label='Gradient Descent')\n",
        "plt.plot(cost_history_mbgd, label='Mini-Batch Gradient Descent')\n",
        "plt.plot(cost_history_sgd, label='Stochastic Gradient Descent')\n",
        "plt.xlabel('Iteration')\n",
        "plt.ylabel('Cost')\n",
        "plt.title('Optimization Algorithms')\n",
        "plt.legend()\n",
        "plt.show()\n",
        "```\n",
        "\n",
        "This code runs the three optimization algorithms on the Boston Housing dataset and plots the cost history for each algorithm. You can see how the different algorithms converge to the optimal solution.\n",
        "\n",
        "Note that the hyperparameters (alpha, num_iterations, batch_size) are set to arbitrary values and may need to be tuned for optimal performance.\n",
        "\n",
        "3.Let's compare the effects of changing the learning rate by the same amount in Batch Gradient Descent (GD), Stochastic Gradient Descent (SGD), and Mini-batch Gradient Descent (MGD).\n",
        "\n",
        "Here's a summary of the effects of changing the learning rate on each algorithm:\n",
        "\n",
        "Batch Gradient Descent (GD):\n",
        "\n",
        "- A small change in the learning rate has a significant impact on the convergence of the algorithm.\n",
        "- If the learning rate is too high, the algorithm may overshoot the optimal solution and diverge.\n",
        "- If the learning rate is too low, the algorithm may converge slowly.\n",
        "\n",
        "Stochastic Gradient Descent (SGD):\n",
        "\n",
        "- A small change in the learning rate has a relatively small impact on the convergence of the algorithm.\n",
        "- SGD is more robust to changes in the learning rate due to the noise in the gradient estimates.\n",
        "- However, if the learning rate is too high, SGD may diverge or converge to a suboptimal solution.\n",
        "\n",
        "Mini-batch Gradient Descent (MGD):\n",
        "\n",
        "- A small change in the learning rate has a moderate impact on the convergence of the algorithm.\n",
        "- MGD is more robust to changes in the learning rate than Batch GD, but less robust than SGD.\n",
        "- The optimal learning rate for MGD depends on the batch size and the noise in the gradient estimates.\n",
        "\n",
        "Here's some sample Python code to illustrate the effects of changing the learning rate on each algorithm:\n",
        "\n",
        "```\n",
        "import numpy as np\n",
        "import matplotlib.pyplot as plt\n",
        "\n",
        "Define the function to optimize\n",
        "def f(x):\n",
        "    return x**2 + 2*x + 1\n",
        "\n",
        "Define the derivative of the function\n",
        "def f_prime(x):\n",
        "    return 2*x + 2\n",
        "\n",
        "Initialize the starting point and learning rates\n",
        "x = 10.0\n",
        "learning_rates = [0.1, 0.5, 1.0]\n",
        "\n",
        "Perform Batch GD, SGD, and MGD with different learning rates\n",
        "for learning_rate in learning_rates:\n",
        "    x_history_batch = [x]\n",
        "    x_history_sgd = [x]\n",
        "    x_history_mgd = [x]\n",
        "    \n",
        "    for i in range(100):\n",
        "        # Batch GD\n",
        "        x_new_batch = x - learning_rate * f_prime(x)\n",
        "        x_history_batch.append(x_new_batch)\n",
        "        x = x_new_batch\n",
        "        \n",
        "        # SGD\n",
        "        gradient_noise = np.random.normal(0, 1)\n",
        "        x_new_sgd = x - learning_rate * (f_prime(x) + gradient_noise)\n",
        "        x_history_sgd.append(x_new_sgd)\n",
        "        x = x_new_sgd\n",
        "        \n",
        "        # MGD\n",
        "        batch_size = 10\n",
        "        gradient_noise = np.random.normal(0, 1 / np.sqrt(batch_size))\n",
        "        x_new_mgd = x - learning_rate * (f_prime(x) + gradient_noise)\n",
        "        x_history_mgd.append(x_new_mgd)\n",
        "        x = x_new_mgd\n",
        "    \n",
        "    plt.plot(x_history_batch, label=f\"Batch GD, LR={learning_rate}\")\n",
        "    plt.plot(x_history_sgd, label=f\"SGD, LR={learning_rate}\")\n",
        "    plt.plot(x_history_mgd, label=f\"MGD, LR={learning_rate}\")\n",
        "\n",
        "plt.xlabel('Iteration')\n",
        "plt.ylabel('x')\n",
        "plt.title('Effects of Changing Learning Rate')\n",
        "plt.legend()\n",
        "plt.show()\n",
        "```\n",
        "\n",
        "This code performs Batch GD, SGD, and MGD with different learning rates and plots the convergence of each algorithm. You can see how the learning rate affects the convergence of each algorithm."
      ],
      "metadata": {
        "id": "0neTARjKUoP4"
      }
    },
    {
      "cell_type": "markdown",
      "source": [
        "## **Additional Critical Thinking Question**\n",
        "\n"
      ],
      "metadata": {
        "id": "u8BdtVjRdKOq"
      }
    },
    {
      "cell_type": "markdown",
      "source": [
        "**Which of the following is TRUE, given the optimal learning rate?**\n",
        "\n",
        " (i) Batch gradient descent is always guaranteed to converge to the global optimum of a loss function.\n",
        "\n",
        " (ii) Stochastic gradient descent is always guaranteed to converge to the global optimum of a loss function.\n",
        "\n",
        " (iii) For convex loss functions (i.e. with a bowl shape), batch gradient descent is guaranteed to eventually converge to the global optimum while stochastic gradient descent is not.\n",
        "\n",
        " (iv) For convex loss functions (i.e. with a bowl shape), stochastic gradient descent is guaranteed to eventually converge to the global optimum while batch gradient descent is not.\n",
        "\n",
        " (v) For convex loss functions (i.e. with a bowl shape), both stochastic gradient descent and batch gradient descent will eventually converge to the global optimum.\n",
        "\n",
        " (vi) For convex loss functions (i.e. with a bowl shape), neither stochastic gradient descent nor batch gradient descent are guaranteed to converge to the global optimum.\n",
        "\n",
        "Here's a rewritten version of the provided text in a more readable format:\n",
        "\n",
        "Comparison of Optimization Algorithms\n",
        "This section compares the effects of changing the learning rate by the same amount in Batch Gradient Descent (GD), Stochastic Gradient Descent (SGD), and Mini-batch Gradient Descent (MGD).\n",
        "\n",
        "*Batch Gradient Descent (GD)*\n",
        "- A small change in the learning rate has a significant impact on the convergence of the algorithm.\n",
        "- If the learning rate is too high, the algorithm may overshoot the optimal solution and diverge.\n",
        "- If the learning rate is too low, the algorithm may converge slowly.\n",
        "\n",
        "*Stochastic Gradient Descent (SGD)*\n",
        "- A small change in the learning rate has a relatively small impact on the convergence of the algorithm.\n",
        "- SGD is more robust to changes in the learning rate due to the noise in the gradient estimates.\n",
        "- However, if the learning rate is too high, SGD may diverge or converge to a suboptimal solution.\n",
        "\n",
        "*Mini-batch Gradient Descent (MGD)*\n",
        "- A small change in the learning rate has a moderate impact on the convergence of the algorithm.\n",
        "- MGD is more robust to changes in the learning rate than Batch GD, but less robust than SGD.\n",
        "- The optimal learning rate for MGD depends on the batch size and the noise in the gradient estimates.\n",
        "\n",
        "Code Implementation\n",
        "Here's some sample Python code to illustrate the effects of changing the learning rate on each algorithm:\n",
        "\n",
        "```\n",
        "import numpy as np\n",
        "import matplotlib.pyplot as plt\n",
        "\n",
        "Define the function to optimize\n",
        "def f(x):\n",
        "    return x**2 + 2*x + 1\n",
        "\n",
        "Define the derivative of the function\n",
        "def f_prime(x):\n",
        "    return 2*x + 2\n",
        "\n",
        "Initialize the starting point and learning rates\n",
        "x = 10.0\n",
        "learning_rates = [0.1, 0.5, 1.0]\n",
        "\n",
        "Perform Batch GD, SGD, and MGD with different learning rates\n",
        "for learning_rate in learning_rates:\n",
        "    x_history_batch = [x]\n",
        "    x_history_sgd = [x]\n",
        "    x_history_mgd = [x]\n",
        "    \n",
        "    for i in range(100):\n",
        "        # Batch GD\n",
        "        x_new_batch = x - learning_rate * f_prime(x)\n",
        "        x_history_batch.append(x_new_batch)\n",
        "        x = x_new_batch\n",
        "        \n",
        "        # SGD\n",
        "        gradient_noise = np.random.normal(0, 1)\n",
        "        x_new_sgd = x - learning_rate * (f_prime(x) + gradient_noise)\n",
        "        x_history_sgd.append(x_new_sgd)\n",
        "        x = x_new_sgd\n",
        "        \n",
        "        # MGD\n",
        "        batch_size = 10\n",
        "        gradient_noise = np.random.normal(0, 1 / np.sqrt(batch_size))\n",
        "        x_new_mgd = x - learning_rate * (f_prime(x) + gradient_noise)\n",
        "        x_history_mgd.append(x_new_mgd)\n",
        "        x = x_new_mgd\n",
        "    \n",
        "    plt.plot(x_history_batch, label=f\"Batch GD, LR={learning_rate}\")\n",
        "    plt.plot(x_history_sgd, label=f\"SGD, LR={learning_rate}\")\n",
        "    plt.plot(x_history_mgd, label=f\"MGD, LR={learning_rate}\")\n",
        "\n",
        "plt.xlabel('Iteration')\n",
        "plt.ylabel('x')\n",
        "plt.title('Effects of Changing Learning Rate')\n",
        "plt.legend()\n",
        "plt.show()\n",
        "```\n",
        "\n",
        "This code performs Batch GD, SGD, and MGD with different learning rates and plots the convergence of each algorithm. You can see how the learning rate affects the convergence of each algorithm."
      ],
      "metadata": {
        "id": "5XZRrUrffL2s"
      }
    }
  ]
}